{
 "cells": [
  {
   "cell_type": "code",
   "execution_count": 61,
   "id": "76fd60d9-427d-44db-a779-60aa3a2bc7be",
   "metadata": {},
   "outputs": [],
   "source": [
    "# import datetime for validation\n",
    "from datetime import datetime\n",
    "\n",
    "# import csv\n",
    "import csv\n",
    "\n",
    "expenses = [] # Create a list to store expenses\n",
    "monthly_budget = 0.0 # Monthly budget input\n",
    "filename = \"expenses.csv\" # CSV file for saving and loading"
   ]
  },
  {
   "cell_type": "code",
   "execution_count": 62,
   "id": "0aa9888a-551e-4b07-8572-31e621f50794",
   "metadata": {},
   "outputs": [],
   "source": [
    "def add_expense():\n",
    "    print(\"=== Add New Expense ===\")\n",
    "\n",
    "    while True:\n",
    "        date_input = input(\"Enter the date (YYYY-MM-DD): \").strip()    \n",
    "        try:\n",
    "            datetime.strptime(date_input, \"%Y-%m-%d\")\n",
    "            date = date_input\n",
    "            break\n",
    "        except ValueError:\n",
    "            print(\"Invalid date format! Please enter in YYYY-MM-DD format\")\n",
    "        \n",
    "    category = input(\"Enter the category (e.g., Food, Travel): \").strip()\n",
    "\n",
    "    try:\n",
    "        amount = float(input(\"Enter the amount spent: \").strip())\n",
    "    except ValueError:\n",
    "        print(\"Invalid amount! Please enter a number.\")\n",
    "        return\n",
    "\n",
    "    description = input(\"Enter a brief description: \").strip()\n",
    "\n",
    "    # Create a dictionary with the entered information\n",
    "    expense = {\n",
    "        \"date\": date,\n",
    "        \"category\": category,\n",
    "        \"amount\": amount,\n",
    "        \"description\": description\n",
    "    }\n",
    "\n",
    "    expenses.append(expense)\n",
    "    print(\"Expense added Successfully!\")"
   ]
  },
  {
   "cell_type": "code",
   "execution_count": 67,
   "id": "ea6543c0-a9e7-4f8e-9dff-724a6a3b41b8",
   "metadata": {},
   "outputs": [
    {
     "name": "stdout",
     "output_type": "stream",
     "text": [
      "=== Add New Expense ===\n"
     ]
    },
    {
     "name": "stdin",
     "output_type": "stream",
     "text": [
      "Enter the date (YYYY-MM-DD):  2024-03-05\n",
      "Enter the category (e.g., Food, Travel):  Travel\n",
      "Enter the amount spent:  1032\n",
      "Enter a brief description:  Chennai\n"
     ]
    },
    {
     "name": "stdout",
     "output_type": "stream",
     "text": [
      "Expense added Successfully!\n"
     ]
    }
   ],
   "source": [
    "add_expense()"
   ]
  },
  {
   "cell_type": "code",
   "execution_count": 68,
   "id": "d2148ade-c440-42c9-8a46-c07c623cbcbb",
   "metadata": {},
   "outputs": [
    {
     "name": "stdout",
     "output_type": "stream",
     "text": [
      "\n",
      " Current Expenses:\n",
      "{'date': '2025-06-23', 'category': 'Food', 'amount': 304.5, 'description': 'Coffee'}\n",
      "{'date': '2024-03-05', 'category': 'Travel', 'amount': 1032.0, 'description': 'Chennai'}\n"
     ]
    }
   ],
   "source": [
    "print(\"\\n Current Expenses:\");\n",
    "for each_expense in expenses:\n",
    "    print(each_expense)"
   ]
  },
  {
   "cell_type": "code",
   "execution_count": 69,
   "id": "c92cea35-563c-4723-955f-231d862a0363",
   "metadata": {},
   "outputs": [],
   "source": [
    "def view_expenses():\n",
    "    print(\"\\nView Expense List\")\n",
    "\n",
    "    if not expenses:\n",
    "        print(\"No Expenses to display\");\n",
    "        return\n",
    "\n",
    "    for index, expense in enumerate(expenses, start=1):\n",
    "        \n",
    "        if \"date\" not in expense or not expense[\"date\"]:\n",
    "            print(f\" Expense #{index} is missing date. Skipping...\")\n",
    "            continue\n",
    "        if \"category\" not in expense or not expense[\"category\"]:\n",
    "            print(f\" Expense #{index} is missing category. Skipping...\")\n",
    "            continue\n",
    "\n",
    "        if \"amount\" not in expense or not expense[\"amount\"]:\n",
    "            print(f\" Expense #{index} is missing amount. Skipping...\")\n",
    "            continue\n",
    "\n",
    "        if \"description\" not in expense or not expense[\"description\"]:\n",
    "            print(f\" Expense #{index} is missing description. Skipping...\")\n",
    "            continue\n",
    "       \n",
    "        print(f\"\\nExpense #{index}\")\n",
    "        print(f\"Date       : {expense['date']}\")\n",
    "        print(f\"Category   : {expense['category']}\")\n",
    "        print(f\"Amount     : ₹{expense['amount']:.2f}\")\n",
    "        print(f\"Description: {expense['description']}\")"
   ]
  },
  {
   "cell_type": "code",
   "execution_count": 70,
   "id": "397321dd-4466-40d9-aac6-a4528112e6d1",
   "metadata": {},
   "outputs": [
    {
     "name": "stdout",
     "output_type": "stream",
     "text": [
      "\n",
      "View Expense List\n",
      "\n",
      "Expense #1\n",
      "Date       : 2025-06-23\n",
      "Category   : Food\n",
      "Amount     : ₹304.50\n",
      "Description: Coffee\n",
      "\n",
      "Expense #2\n",
      "Date       : 2024-03-05\n",
      "Category   : Travel\n",
      "Amount     : ₹1032.00\n",
      "Description: Chennai\n"
     ]
    }
   ],
   "source": [
    "view_expenses()"
   ]
  },
  {
   "cell_type": "code",
   "execution_count": 76,
   "id": "6c958aa3-9763-470f-9afd-e931b455389d",
   "metadata": {},
   "outputs": [],
   "source": [
    "def set_budget():\n",
    "    global monthly_budget\n",
    "    print(\"Set Monthly Budget\")\n",
    "    try:\n",
    "        monthly_budget = float(input(\"Enter your total monthly budget:\").strip())\n",
    "        print(f\"Monthly budget set to {monthly_budget:.2f}\")\n",
    "    except ValueError:\n",
    "        print(\"Invalid input. Please enter a number\")\n",
    "\n",
    "def calculate_total_expenses():\n",
    "    total = 0.0\n",
    "    for each_expense in expenses:\n",
    "        if \"amount\" in each_expense:\n",
    "            total += float(each_expense[\"amount\"])\n",
    "    return total\n",
    "\n",
    "def track_budget():\n",
    "    print(\"Budget Status\")\n",
    "    if monthly_budget == 0:\n",
    "        print(\"Set your monthly budget\")\n",
    "        return\n",
    "\n",
    "    total_spent = calculate_total_expenses()\n",
    "    print(f\" Total expenses so far: ₹{total_spent:.2f}\")\n",
    "    \n",
    "    remaining = monthly_budget - total_spent\n",
    "    if remaining < 0:\n",
    "        print(f\"Exceeded the budget by ₹{abs(remaining):.2f}!\")\n",
    "    else:\n",
    "        print(f\"You have ₹{remaining:.2f} left for the month\")"
   ]
  },
  {
   "cell_type": "code",
   "execution_count": 84,
   "id": "ed03033b-9a3d-42d4-bbdb-e42f54621770",
   "metadata": {},
   "outputs": [],
   "source": [
    "def save_expenses_to_file():\n",
    "    try:\n",
    "        with open(filename, \"w\", newline='', encoding=\"utf-8\") as file:\n",
    "            writer = csv.DictWriter(file, fieldnames=[\"date\", \"category\", \"amount\", \"description\"])\n",
    "            writer.writeheader()\n",
    "            writer.writerows(expenses)\n",
    "            print(f\"Expenses saved to {filename}\")\n",
    "    except Exception as e:\n",
    "        print(f\"Error saving file: {e}\")\n",
    "\n",
    "def load_expenses_from_file():\n",
    "    try:\n",
    "        with open(filename, \"r\", newline='', encoding=\"utf-8\") as file:\n",
    "            reader = csv.DictReader(file)\n",
    "            for row in reader:\n",
    "                try:\n",
    "                    row[\"amount\"] = float(row[\"amount\"])\n",
    "                    expenses.append(row)\n",
    "                except ValueError:\n",
    "                    continue  # skip if amount is invalid\n",
    "        print(f\"Loaded expenses from {filename}\")\n",
    "    except FileNotFoundError:\n",
    "        print(\"No saved CSV file found\")\n",
    "    except Exception as e:\n",
    "        print(f\"Error loading file: {e}\")"
   ]
  },
  {
   "cell_type": "code",
   "execution_count": 85,
   "id": "bb5e9ec5-771d-4f00-afec-3883b30a540a",
   "metadata": {},
   "outputs": [
    {
     "name": "stdout",
     "output_type": "stream",
     "text": [
      "No saved CSV file found\n",
      "\n",
      "=== Personal Expense Tracker Menu ===\n",
      "1. Add Expense\n",
      "2. View Expenses\n",
      "3. Set & Track Budget\n",
      "4. Save Expenses to File\n",
      "5. Exit\n"
     ]
    },
    {
     "name": "stdin",
     "output_type": "stream",
     "text": [
      "Choose an option (1–5):  2\n"
     ]
    },
    {
     "name": "stdout",
     "output_type": "stream",
     "text": [
      "\n",
      "View Expense List\n",
      "\n",
      "Expense #1\n",
      "Date       : 2025-06-23\n",
      "Category   : Food\n",
      "Amount     : ₹304.50\n",
      "Description: Coffee\n",
      "\n",
      "Expense #2\n",
      "Date       : 2024-03-05\n",
      "Category   : Travel\n",
      "Amount     : ₹1032.00\n",
      "Description: Chennai\n",
      "\n",
      "Expense #3\n",
      "Date       : 2025-06-23\n",
      "Category   : Food\n",
      "Amount     : ₹300.00\n",
      "Description: Coffee\n",
      "\n",
      "Expense #4\n",
      "Date       : 2025-06-25\n",
      "Category   : Travel\n",
      "Amount     : ₹799.00\n",
      "Description: Chennai\n",
      "\n",
      "=== Personal Expense Tracker Menu ===\n",
      "1. Add Expense\n",
      "2. View Expenses\n",
      "3. Set & Track Budget\n",
      "4. Save Expenses to File\n",
      "5. Exit\n"
     ]
    },
    {
     "name": "stdin",
     "output_type": "stream",
     "text": [
      "Choose an option (1–5):  3\n"
     ]
    },
    {
     "name": "stdout",
     "output_type": "stream",
     "text": [
      "Set Monthly Budget\n"
     ]
    },
    {
     "name": "stdin",
     "output_type": "stream",
     "text": [
      "Enter your total monthly budget: 6000\n"
     ]
    },
    {
     "name": "stdout",
     "output_type": "stream",
     "text": [
      "Monthly budget set to 6000.00\n",
      "Budget Status\n",
      " Total expenses so far: ₹2435.50\n",
      "You have ₹3564.50 left for the month\n",
      "\n",
      "=== Personal Expense Tracker Menu ===\n",
      "1. Add Expense\n",
      "2. View Expenses\n",
      "3. Set & Track Budget\n",
      "4. Save Expenses to File\n",
      "5. Exit\n"
     ]
    },
    {
     "name": "stdin",
     "output_type": "stream",
     "text": [
      "Choose an option (1–5):  4\n"
     ]
    },
    {
     "name": "stdout",
     "output_type": "stream",
     "text": [
      "Expenses saved to expenses.csv\n",
      "\n",
      "=== Personal Expense Tracker Menu ===\n",
      "1. Add Expense\n",
      "2. View Expenses\n",
      "3. Set & Track Budget\n",
      "4. Save Expenses to File\n",
      "5. Exit\n"
     ]
    },
    {
     "name": "stdin",
     "output_type": "stream",
     "text": [
      "Choose an option (1–5):  3\n"
     ]
    },
    {
     "name": "stdout",
     "output_type": "stream",
     "text": [
      "Set Monthly Budget\n"
     ]
    },
    {
     "name": "stdin",
     "output_type": "stream",
     "text": [
      "Enter your total monthly budget: 6000\n"
     ]
    },
    {
     "name": "stdout",
     "output_type": "stream",
     "text": [
      "Monthly budget set to 6000.00\n",
      "Budget Status\n",
      " Total expenses so far: ₹2435.50\n",
      "You have ₹3564.50 left for the month\n",
      "\n",
      "=== Personal Expense Tracker Menu ===\n",
      "1. Add Expense\n",
      "2. View Expenses\n",
      "3. Set & Track Budget\n",
      "4. Save Expenses to File\n",
      "5. Exit\n"
     ]
    },
    {
     "name": "stdin",
     "output_type": "stream",
     "text": [
      "Choose an option (1–5):  1\n"
     ]
    },
    {
     "name": "stdout",
     "output_type": "stream",
     "text": [
      "=== Add New Expense ===\n"
     ]
    },
    {
     "name": "stdin",
     "output_type": "stream",
     "text": [
      "Enter the date (YYYY-MM-DD):  2025-02-04\n",
      "Enter the category (e.g., Food, Travel):  Food\n",
      "Enter the amount spent:  900\n",
      "Enter a brief description:  Flat\n"
     ]
    },
    {
     "name": "stdout",
     "output_type": "stream",
     "text": [
      "Expense added Successfully!\n",
      "\n",
      "=== Personal Expense Tracker Menu ===\n",
      "1. Add Expense\n",
      "2. View Expenses\n",
      "3. Set & Track Budget\n",
      "4. Save Expenses to File\n",
      "5. Exit\n"
     ]
    },
    {
     "name": "stdin",
     "output_type": "stream",
     "text": [
      "Choose an option (1–5):  4\n"
     ]
    },
    {
     "name": "stdout",
     "output_type": "stream",
     "text": [
      "Expenses saved to expenses.csv\n",
      "\n",
      "=== Personal Expense Tracker Menu ===\n",
      "1. Add Expense\n",
      "2. View Expenses\n",
      "3. Set & Track Budget\n",
      "4. Save Expenses to File\n",
      "5. Exit\n"
     ]
    },
    {
     "name": "stdin",
     "output_type": "stream",
     "text": [
      "Choose an option (1–5):  5\n"
     ]
    },
    {
     "name": "stdout",
     "output_type": "stream",
     "text": [
      "Expenses saved to expenses.csv\n",
      "Exiting\n"
     ]
    }
   ],
   "source": [
    "def show_menu():\n",
    "    while True:\n",
    "        print(\"\\n=== Personal Expense Tracker Menu ===\")\n",
    "        print(\"1. Add Expense\")\n",
    "        print(\"2. View Expenses\")\n",
    "        print(\"3. Set & Track Budget\")\n",
    "        print(\"4. Save Expenses to File\")\n",
    "        print(\"5. Exit\")\n",
    "\n",
    "        choice = input(\"Choose an option (1–5): \").strip()\n",
    "\n",
    "        if choice == \"1\":\n",
    "            add_expense()\n",
    "        elif choice == \"2\":\n",
    "            view_expenses()\n",
    "        elif choice == \"3\":\n",
    "            set_budget()\n",
    "            track_budget()\n",
    "        elif choice == \"4\":\n",
    "            save_expenses_to_file()\n",
    "        elif choice == \"5\":\n",
    "            save_expenses_to_file()\n",
    "            print(\"Exiting\")\n",
    "            break\n",
    "        else:\n",
    "            print(\"Invalid choice. Please enter a number between 1 and 5.\")\n",
    "\n",
    "\n",
    "# -------------------------\n",
    "# Start the Project\n",
    "# -------------------------\n",
    "load_expenses_from_file()\n",
    "show_menu()"
   ]
  },
  {
   "cell_type": "code",
   "execution_count": null,
   "id": "472e5da5-85ad-4534-8fef-40c0090c081c",
   "metadata": {},
   "outputs": [],
   "source": []
  }
 ],
 "metadata": {
  "kernelspec": {
   "display_name": "Python [conda env:base] *",
   "language": "python",
   "name": "conda-base-py"
  },
  "language_info": {
   "codemirror_mode": {
    "name": "ipython",
    "version": 3
   },
   "file_extension": ".py",
   "mimetype": "text/x-python",
   "name": "python",
   "nbconvert_exporter": "python",
   "pygments_lexer": "ipython3",
   "version": "3.12.7"
  }
 },
 "nbformat": 4,
 "nbformat_minor": 5
}
